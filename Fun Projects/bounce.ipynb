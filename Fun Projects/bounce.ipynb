{
 "cells": [
  {
   "cell_type": "code",
   "execution_count": 30,
   "metadata": {},
   "outputs": [],
   "source": [
    "import pandas as pd\n",
    "import numpy as np\n",
    "import requests\n",
    "from bs4 import BeautifulSoup\n",
    "import re\n",
    "import math\n",
    "from datetime import datetime\n",
    "import random\n",
    "import os\n",
    "import json\n",
    "import threading\n",
    "import mysql.connector\n",
    "import seaborn as sns\n",
    "import matplotlib.pyplot as plt\n",
    "import numpy as np\n",
    "sns.set_style('darkgrid')\n",
    "sns.set(font_scale=1.3)"
   ]
  },
  {
   "cell_type": "code",
   "execution_count": 9,
   "metadata": {},
   "outputs": [
    {
     "name": "stdout",
     "output_type": "stream",
     "text": [
      "Site URL -  https://usebounce.com/blog?q=\n",
      "Response -  200\n"
     ]
    }
   ],
   "source": [
    "url = \"https://usebounce.com/blog?q=\"\n",
    "print(\"Site URL - \", url)\n",
    "response = requests.get(url)\n",
    "print(\"Response - \", response.status_code)\n",
    "if response.status_code == 200:\n",
    "    soup = BeautifulSoup(response.content, 'html.parser')"
   ]
  },
  {
   "cell_type": "code",
   "execution_count": 13,
   "metadata": {},
   "outputs": [
    {
     "name": "stdout",
     "output_type": "stream",
     "text": [
      "Number of articles -  109\n"
     ]
    }
   ],
   "source": [
    "articles = soup.find('div',{'class':'grid gap-4 mt-5 sm:gap-y-9 sm:gap-x-10 sm:mt-8 grid-cols-1 sm:grid-cols-2 lg:grid-cols-3'}).find_all('article')\n",
    "\n",
    "print(\"Number of articles - \", len(articles))"
   ]
  },
  {
   "cell_type": "code",
   "execution_count": 47,
   "metadata": {},
   "outputs": [],
   "source": [
    "blog_info = []\n",
    "date_format = \"%d %B, %Y\"\n",
    "for article in articles:\n",
    "    date_posted = article.find('span',{'class':'ml-6 text-gray-500 text-body2 line-clamp-1'}).text\n",
    "    title = article.find('h3').text\n",
    "    subtitle = article.find('p').text if article.find('p') else ''\n",
    "    json = {\n",
    "        \"date_posted\": datetime.strptime(date_posted, date_format),\n",
    "        \"title\": title,\n",
    "        \"subtitle\": subtitle\n",
    "    }\n",
    "    blog_info.append(json)"
   ]
  },
  {
   "cell_type": "code",
   "execution_count": 48,
   "metadata": {},
   "outputs": [],
   "source": [
    "blog_df = pd.DataFrame(blog_info)\n",
    "\n",
    "blog_df['date_posted_year_month'] = blog_df['date_posted'].dt.to_period('M')"
   ]
  },
  {
   "cell_type": "code",
   "execution_count": 49,
   "metadata": {},
   "outputs": [
    {
     "data": {
      "text/html": [
       "<div>\n",
       "<style scoped>\n",
       "    .dataframe tbody tr th:only-of-type {\n",
       "        vertical-align: middle;\n",
       "    }\n",
       "\n",
       "    .dataframe tbody tr th {\n",
       "        vertical-align: top;\n",
       "    }\n",
       "\n",
       "    .dataframe thead th {\n",
       "        text-align: right;\n",
       "    }\n",
       "</style>\n",
       "<table border=\"1\" class=\"dataframe\">\n",
       "  <thead>\n",
       "    <tr style=\"text-align: right;\">\n",
       "      <th></th>\n",
       "      <th>date_posted</th>\n",
       "      <th>title</th>\n",
       "      <th>subtitle</th>\n",
       "      <th>date_posted_year_month</th>\n",
       "    </tr>\n",
       "  </thead>\n",
       "  <tbody>\n",
       "    <tr>\n",
       "      <th>0</th>\n",
       "      <td>2023-05-24</td>\n",
       "      <td>The 2023 solo travel index</td>\n",
       "      <td>The best countries to visit when traveling solo</td>\n",
       "      <td>2023-05</td>\n",
       "    </tr>\n",
       "    <tr>\n",
       "      <th>1</th>\n",
       "      <td>2023-05-23</td>\n",
       "      <td>Sunset Skies</td>\n",
       "      <td>The world’s most beautiful sunset destinations</td>\n",
       "      <td>2023-05</td>\n",
       "    </tr>\n",
       "    <tr>\n",
       "      <th>2</th>\n",
       "      <td>2023-05-23</td>\n",
       "      <td>Europe’s friendliest city breaks</td>\n",
       "      <td>The friendliest places to visit across Europe</td>\n",
       "      <td>2023-05</td>\n",
       "    </tr>\n",
       "    <tr>\n",
       "      <th>3</th>\n",
       "      <td>2023-05-18</td>\n",
       "      <td>Airport wait times 2023</td>\n",
       "      <td>Which US airports have the longest &amp; shortest ...</td>\n",
       "      <td>2023-05</td>\n",
       "    </tr>\n",
       "    <tr>\n",
       "      <th>4</th>\n",
       "      <td>2023-05-17</td>\n",
       "      <td>10 Tips For Traveling With A Large Group</td>\n",
       "      <td>Bounce assembled a list of first-rate tips for...</td>\n",
       "      <td>2023-05</td>\n",
       "    </tr>\n",
       "    <tr>\n",
       "      <th>...</th>\n",
       "      <td>...</td>\n",
       "      <td>...</td>\n",
       "      <td>...</td>\n",
       "      <td>...</td>\n",
       "    </tr>\n",
       "    <tr>\n",
       "      <th>104</th>\n",
       "      <td>2020-02-21</td>\n",
       "      <td>10 Things to do in Reykjavik - Iceland Travel ...</td>\n",
       "      <td>Heading to Reykjavik and need some Iceland tra...</td>\n",
       "      <td>2020-02</td>\n",
       "    </tr>\n",
       "    <tr>\n",
       "      <th>105</th>\n",
       "      <td>2019-08-16</td>\n",
       "      <td>The Best Luggage Storage Solution For New York...</td>\n",
       "      <td></td>\n",
       "      <td>2019-08</td>\n",
       "    </tr>\n",
       "    <tr>\n",
       "      <th>106</th>\n",
       "      <td>2019-09-10</td>\n",
       "      <td>How to Choose the Best Luggage for Traveling</td>\n",
       "      <td>Whether you’re a frequent flyer or you just ta...</td>\n",
       "      <td>2019-09</td>\n",
       "    </tr>\n",
       "    <tr>\n",
       "      <th>107</th>\n",
       "      <td>2019-09-10</td>\n",
       "      <td>6 Packing Tips for Your Upcoming Business Trip</td>\n",
       "      <td>Traveling for business can be pretty fun. Ther...</td>\n",
       "      <td>2019-09</td>\n",
       "    </tr>\n",
       "    <tr>\n",
       "      <th>108</th>\n",
       "      <td>2019-05-17</td>\n",
       "      <td>Traveling with No Luggage: An Experiment</td>\n",
       "      <td>A while back, I tried a bold experiment: trave...</td>\n",
       "      <td>2019-05</td>\n",
       "    </tr>\n",
       "  </tbody>\n",
       "</table>\n",
       "<p>109 rows × 4 columns</p>\n",
       "</div>"
      ],
      "text/plain": [
       "    date_posted                                              title   \n",
       "0    2023-05-24                         The 2023 solo travel index  \\\n",
       "1    2023-05-23                                       Sunset Skies   \n",
       "2    2023-05-23                   Europe’s friendliest city breaks   \n",
       "3    2023-05-18                            Airport wait times 2023   \n",
       "4    2023-05-17           10 Tips For Traveling With A Large Group   \n",
       "..          ...                                                ...   \n",
       "104  2020-02-21  10 Things to do in Reykjavik - Iceland Travel ...   \n",
       "105  2019-08-16  The Best Luggage Storage Solution For New York...   \n",
       "106  2019-09-10       How to Choose the Best Luggage for Traveling   \n",
       "107  2019-09-10     6 Packing Tips for Your Upcoming Business Trip   \n",
       "108  2019-05-17           Traveling with No Luggage: An Experiment   \n",
       "\n",
       "                                              subtitle date_posted_year_month  \n",
       "0      The best countries to visit when traveling solo                2023-05  \n",
       "1       The world’s most beautiful sunset destinations                2023-05  \n",
       "2       The friendliest places to visit across Europe                 2023-05  \n",
       "3    Which US airports have the longest & shortest ...                2023-05  \n",
       "4    Bounce assembled a list of first-rate tips for...                2023-05  \n",
       "..                                                 ...                    ...  \n",
       "104  Heading to Reykjavik and need some Iceland tra...                2020-02  \n",
       "105                                                                   2019-08  \n",
       "106  Whether you’re a frequent flyer or you just ta...                2019-09  \n",
       "107  Traveling for business can be pretty fun. Ther...                2019-09  \n",
       "108  A while back, I tried a bold experiment: trave...                2019-05  \n",
       "\n",
       "[109 rows x 4 columns]"
      ]
     },
     "execution_count": 49,
     "metadata": {},
     "output_type": "execute_result"
    }
   ],
   "source": [
    "blog_df"
   ]
  },
  {
   "cell_type": "code",
   "execution_count": 56,
   "metadata": {},
   "outputs": [
    {
     "data": {
      "text/plain": [
       "<Axes: xlabel='date_posted_year_month'>"
      ]
     },
     "execution_count": 56,
     "metadata": {},
     "output_type": "execute_result"
    },
    {
     "data": {
      "image/png": "[encoded data removed]",
      "text/plain": [
       "<Figure size 640x480 with 1 Axes>"
      ]
     },
     "metadata": {},
     "output_type": "display_data"
    }
   ],
   "source": [
    "import plotly.express as px\n",
    "#fig = px.histogram(pd.DataFrame(blog_df.groupby(blog_df.date_posted_year_month)['title'].count()), x=\"date_posted_year_month\")\n",
    "#fig.show()\n",
    "\n",
    "blog_df.groupby('date_posted_year_month')['title'].count().plot(legend=True)\n"
   ]
  }
 ],
 "metadata": {
  "kernelspec": {
   "display_name": ".venv",
   "language": "python",
   "name": "python3"
  },
  "language_info": {
   "codemirror_mode": {
    "name": "ipython",
    "version": 3
   },
   "file_extension": ".py",
   "mimetype": "text/x-python",
   "name": "python",
   "nbconvert_exporter": "python",
   "pygments_lexer": "ipython3",
   "version": "3.11.2"
  },
  "orig_nbformat": 4
 },
 "nbformat": 4,
 "nbformat_minor": 2
}
